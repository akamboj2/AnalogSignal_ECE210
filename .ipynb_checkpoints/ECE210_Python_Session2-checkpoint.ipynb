{
 "cells": [
  {
   "cell_type": "markdown",
   "metadata": {},
   "source": [
    "### 03/27/2018: Python : Dictionaries and Intro to Signal Processing"
   ]
  },
  {
   "cell_type": "markdown",
   "metadata": {},
   "source": [
    "#### Dictionaries:\n",
    "\n"
   ]
  },
  {
   "cell_type": "markdown",
   "metadata": {},
   "source": [
    "They are native to Python and are basically hash maps. A hash map has keys and values. Each key has its own value."
   ]
  },
  {
   "cell_type": "code",
   "execution_count": 1,
   "metadata": {
    "collapsed": false
   },
   "outputs": [
    {
     "name": "stdout",
     "output_type": "stream",
     "text": [
      "<class 'dict'>\n",
      "{'P_node1_to_node2': 3.0, 'V_node1_to_node2': 1.0, 'I_node1_to_node2': 3.0}\n"
     ]
    }
   ],
   "source": [
    "circuit = {\"V_node1_to_node2\" : 1.0, \n",
    "           \"I_node1_to_node2\" : 3.0, \n",
    "           \"P_node1_to_node2\" : 3.0,}\n",
    "\n",
    "print(type(circuit))\n",
    "print(circuit)"
   ]
  },
  {
   "cell_type": "markdown",
   "metadata": {},
   "source": [
    "Sometimes having strings as keys is more informative and easier to use for the programmer."
   ]
  },
  {
   "cell_type": "code",
   "execution_count": 2,
   "metadata": {
    "collapsed": false
   },
   "outputs": [
    {
     "name": "stdout",
     "output_type": "stream",
     "text": [
      "Voltage drop between node1 and node2: 1.0V\n"
     ]
    }
   ],
   "source": [
    "# find the voltage drop between node1 and node2\n",
    "# simple!\n",
    "\n",
    "print('Voltage drop between node1 and node2: '+str(circuit['V_node1_to_node2'])+'V')"
   ]
  },
  {
   "cell_type": "code",
   "execution_count": 3,
   "metadata": {
    "collapsed": false
   },
   "outputs": [
    {
     "name": "stdout",
     "output_type": "stream",
     "text": [
      "Voltage drop between node1 and node2\t\t: \t2V\n",
      "Current between node1 and node2\t\t\t: \t3.0A\n",
      "Power dissipated between node1 and node2\t: \t6.0W\n"
     ]
    }
   ],
   "source": [
    "# update the voltage drop between node1 and node2 to 2V\n",
    "# update the power because the voltage has changed\n",
    "\n",
    "circuit['V_node1_to_node2'] = 2\n",
    "circuit['P_node1_to_node2'] = circuit['I_node1_to_node2']*circuit['V_node1_to_node2']\n",
    "\n",
    "print('Voltage drop between node1 and node2\\t\\t: \\t'+str(circuit['V_node1_to_node2'])+'V')\n",
    "print('Current between node1 and node2\\t\\t\\t: \\t'+str(circuit['I_node1_to_node2'])+'A')\n",
    "print('Power dissipated between node1 and node2\\t: \\t'+str(circuit['P_node1_to_node2'])+'W')"
   ]
  },
  {
   "cell_type": "code",
   "execution_count": 5,
   "metadata": {
    "collapsed": false
   },
   "outputs": [
    {
     "name": "stdout",
     "output_type": "stream",
     "text": [
      "dict_keys(['V_node1_to_node2', 'I_node1_to_node2', 'P_node1_to_node2'])\n",
      "\n",
      "\n",
      "V_node1_to_node2 2\n",
      "I_node1_to_node2 3.0\n",
      "P_node1_to_node2 6.0\n"
     ]
    }
   ],
   "source": [
    "# finding out the elements of this circuit\n",
    "\n",
    "print(circuit.keys()); print('\\n')\n",
    "\n",
    "for circuit_element in circuit.keys():\n",
    "    print(circuit_element,circuit[circuit_element])"
   ]
  },
  {
   "cell_type": "markdown",
   "metadata": {},
   "source": [
    "##### Important:"
   ]
  },
  {
   "cell_type": "markdown",
   "metadata": {},
   "source": [
    "The keys need to be immutable. This means that only the value a key stores can be changed and the key cannot be changed itself. \n",
    "In the example below, each coordinate pair with respect to the usual Cartesian basis, is identified with a quadrant. \n",
    "A tuple needs to be used to identify the point. A list cannot be used since it is mutable!"
   ]
  },
  {
   "cell_type": "code",
   "execution_count": 4,
   "metadata": {
    "collapsed": false
   },
   "outputs": [
    {
     "name": "stdout",
     "output_type": "stream",
     "text": [
      "{(0, 1): 'I', (-1, 3): 'II', (1, 1): 'I', (-1, -5): 'III'}\n"
     ]
    }
   ],
   "source": [
    "cartesian = {(0, 1) : 'I', (1, 1) : 'I', (-1, 3) : 'II', (-1, -5) : 'III' }\n",
    "print(cartesian)"
   ]
  },
  {
   "cell_type": "code",
   "execution_count": 5,
   "metadata": {
    "collapsed": false
   },
   "outputs": [
    {
     "ename": "TypeError",
     "evalue": "unhashable type: 'list'",
     "output_type": "error",
     "traceback": [
      "\u001b[1;31m---------------------------------------------------------------------------\u001b[0m",
      "\u001b[1;31mTypeError\u001b[0m                                 Traceback (most recent call last)",
      "\u001b[1;32m<ipython-input-5-19c7341b00d7>\u001b[0m in \u001b[0;36m<module>\u001b[1;34m()\u001b[0m\n\u001b[1;32m----> 1\u001b[1;33m \u001b[0mcartesian\u001b[0m \u001b[1;33m=\u001b[0m \u001b[1;33m{\u001b[0m\u001b[1;33m[\u001b[0m\u001b[1;36m0\u001b[0m\u001b[1;33m,\u001b[0m \u001b[1;36m1\u001b[0m\u001b[1;33m]\u001b[0m \u001b[1;33m:\u001b[0m \u001b[1;34m'I'\u001b[0m\u001b[1;33m,\u001b[0m \u001b[1;33m[\u001b[0m\u001b[1;36m1\u001b[0m\u001b[1;33m,\u001b[0m \u001b[1;36m1\u001b[0m\u001b[1;33m]\u001b[0m \u001b[1;33m:\u001b[0m \u001b[1;34m'I'\u001b[0m\u001b[1;33m,\u001b[0m \u001b[1;33m[\u001b[0m\u001b[1;33m-\u001b[0m\u001b[1;36m1\u001b[0m\u001b[1;33m,\u001b[0m \u001b[1;36m3\u001b[0m\u001b[1;33m]\u001b[0m \u001b[1;33m:\u001b[0m \u001b[1;34m'II'\u001b[0m\u001b[1;33m,\u001b[0m \u001b[1;33m[\u001b[0m\u001b[1;33m-\u001b[0m\u001b[1;36m1\u001b[0m\u001b[1;33m,\u001b[0m \u001b[1;33m-\u001b[0m\u001b[1;36m5\u001b[0m\u001b[1;33m]\u001b[0m \u001b[1;33m:\u001b[0m \u001b[1;34m'III'\u001b[0m \u001b[1;33m}\u001b[0m\u001b[1;33m\u001b[0m\u001b[0m\n\u001b[0m\u001b[0;32m      2\u001b[0m \u001b[0mprint\u001b[0m\u001b[1;33m(\u001b[0m\u001b[0mcartesian\u001b[0m\u001b[1;33m)\u001b[0m\u001b[1;33m\u001b[0m\u001b[0m\n",
      "\u001b[1;31mTypeError\u001b[0m: unhashable type: 'list'"
     ]
    }
   ],
   "source": [
    "cartesian = {[0, 1] : 'I', [1, 1] : 'I', [-1, 3] : 'II', [-1, -5] : 'III' }\n",
    "print(cartesian)"
   ]
  },
  {
   "cell_type": "markdown",
   "metadata": {},
   "source": [
    "#### Functions:"
   ]
  },
  {
   "cell_type": "code",
   "execution_count": 6,
   "metadata": {
    "collapsed": false
   },
   "outputs": [
    {
     "name": "stdout",
     "output_type": "stream",
     "text": [
      "6 10\n"
     ]
    }
   ],
   "source": [
    "def my_function(my_arg1, my_arg2):\n",
    "    my_arg1 = my_arg1 + 1\n",
    "    return [my_arg1, my_arg2]\n",
    "\n",
    "a, b = my_function(5,10)\n",
    "print(a, b)"
   ]
  },
  {
   "cell_type": "markdown",
   "metadata": {},
   "source": [
    "Nested Functions:"
   ]
  },
  {
   "cell_type": "code",
   "execution_count": 7,
   "metadata": {
    "collapsed": false
   },
   "outputs": [
    {
     "data": {
      "text/plain": [
       "'ECE210'"
      ]
     },
     "execution_count": 7,
     "metadata": {},
     "output_type": "execute_result"
    }
   ],
   "source": [
    "def printECE(course_no):\n",
    "    def ECE():\n",
    "        return 'ECE'\n",
    "    return ECE() + str(course_no)\n",
    "\n",
    "printECE(210)"
   ]
  },
  {
   "cell_type": "markdown",
   "metadata": {},
   "source": [
    "#### The Fast Fourier Transform (FFT)"
   ]
  },
  {
   "cell_type": "markdown",
   "metadata": {},
   "source": [
    "The FFT is one of the greatest algorithms ever designed. Running in O(nlogn) time, it is an indispensible tool for an electrical engineer."
   ]
  },
  {
   "cell_type": "markdown",
   "metadata": {},
   "source": [
    "Consider the function<br> $f(t) =\\left\\{\n",
    "                \\begin{array}{ll}\n",
    "                  1 & -0.5\\le t \\le 0.5\\\\\n",
    "                  0 & else\\\\\n",
    "                \\end{array}\n",
    "              \\right.\n",
    "                          $\n",
    "\n",
    "Let us take 256 samples from -1 to 1 of the above function."
   ]
  },
  {
   "cell_type": "code",
   "execution_count": 9,
   "metadata": {
    "collapsed": false
   },
   "outputs": [
    {
     "data": {
      "image/png": "[encoded data removed]",
      "text/plain": [
       "<Figure size 600x400 with 1 Axes>"
      ]
     },
     "metadata": {},
     "output_type": "display_data"
    }
   ],
   "source": [
    "import numpy as np\n",
    "import matplotlib.pyplot as plt\n",
    "\n",
    "%matplotlib inline\n",
    "\n",
    "f = np.zeros(256)\n",
    "#print(f)\n",
    "f[64:64+128] = 1\n",
    "#print(f)\n",
    "#index 64 corresponds to t = -0.5\n",
    "#index 191 corresponds to t = 0.5\n",
    "\n",
    "t = np.linspace(-1, 1, 256)\n",
    "plt.figure(1)\n",
    "plt.plot(t, f)\n",
    "plt.xlim([-1, 1])\n",
    "plt.show()"
   ]
  },
  {
   "cell_type": "markdown",
   "metadata": {},
   "source": [
    "Now let us take the Fourier Transform of this function using the FFT. "
   ]
  },
  {
   "cell_type": "code",
   "execution_count": 32,
   "metadata": {
    "collapsed": false
   },
   "outputs": [
    {
     "data": {
      "image/png": "[encoded data removed]",
      "text/plain": [
       "<matplotlib.figure.Figure at 0x231a9662e80>"
      ]
     },
     "metadata": {},
     "output_type": "display_data"
    }
   ],
   "source": [
    "F = np.fft.fft(f)\n",
    "F = np.fft.fftshift(F)\n",
    "\n",
    "sampling_rate = 128 \n",
    "w = np.fft.fftfreq(256, d = 1/sampling_rate)\n",
    "w = np.fft.fftshift(w)\n",
    "plt.figure(2)\n",
    "plt.plot(w, np.abs(F))\n",
    "plt.show()"
   ]
  },
  {
   "cell_type": "markdown",
   "metadata": {},
   "source": [
    "#### EXERCISES:"
   ]
  },
  {
   "cell_type": "markdown",
   "metadata": {},
   "source": [
    "#### Exercise 1:"
   ]
  },
  {
   "cell_type": "markdown",
   "metadata": {},
   "source": [
    "- given the locations of points a, b, c, d, e, \n",
    "    - find the distance between each point \n",
    "    - find the direction between each point(as a unit vector)\n",
    "\n",
    "- give the output in the form:\n",
    "    - point a to point b, distance : 1.73 \tdirection: 0.58, 0.58, 0.58\n",
    "    - point a to point c, distance : 1.41 \tdirection: 0.71, -0.71, 0.00\n",
    "    - point a to point d, distance : 11.36 \tdirection: -0.44, 0.88, 0.18\n",
    "    - point a to point e, distance : 3.32 \tdirection: 0.30, 0.90, 0.30\n",
    "    - point b to point a, distance : 1.73 \tdirection: -0.58, -0.58, -0.58\n",
    "    - point b to point c, distance : 2.24 \tdirection: 0.00, -0.89, -0.45\n",
    "    - point b to point d, distance : 10.86 \tdirection: -0.55, 0.83, 0.09\n",
    "    - point b to point e, distance : 2.00 \tdirection: 0.00, 1.00, 0.00\n",
    "    - point c to point a, distance : 1.41 \tdirection: -0.71, 0.71, 0.00\n",
    "    - point c to point b, distance : 2.24 \tdirection: 0.00, 0.89, 0.45\n",
    "    - point c to point d, distance : 12.69 \tdirection: -0.47, 0.87, 0.16\n",
    "    - point c to point e, distance : 4.12 \tdirection: 0.00, 0.97, 0.24\n",
    "    - point d to point a, distance : 11.36 \tdirection: 0.44, -0.88, -0.18\n",
    "    - point d to point b, distance : 10.86 \tdirection: 0.55, -0.83, -0.09\n",
    "    - point d to point c, distance : 12.69 \tdirection: 0.47, -0.87, -0.16\n",
    "\n",
    "- please use formatted string to display all floating point numbers to 2 decimal places"
   ]
  },
  {
   "cell_type": "code",
   "execution_count": 47,
   "metadata": {
    "collapsed": true
   },
   "outputs": [],
   "source": [
    "a = np.array([0.,0.,0.])\n",
    "b = np.array([1.,1.,1.])\n",
    "c = np.array([1.,-1.,0.])\n",
    "d = np.array([-5.,10.,2.])\n",
    "e = np.array([1.,3.,1.])"
   ]
  },
  {
   "cell_type": "code",
   "execution_count": 48,
   "metadata": {
    "collapsed": false
   },
   "outputs": [
    {
     "data": {
      "text/plain": [
       "'<---------- writing code from scratch  ------------------------->'"
      ]
     },
     "execution_count": 48,
     "metadata": {},
     "output_type": "execute_result"
    }
   ],
   "source": [
    "# you have the option of writing the entire code from scratch or to use the following hints\n",
    "# use hint0, saves you some work\n",
    "\n",
    "'''<---------- writing code from scratch  ------------------------->'''\n",
    "\n",
    "\n",
    "\n",
    "\n",
    "\n",
    "\n",
    "\n",
    "\n"
   ]
  },
  {
   "cell_type": "code",
   "execution_count": 49,
   "metadata": {
    "collapsed": true
   },
   "outputs": [],
   "source": [
    "# hint 0: the following functions have been written for you if you choose to use them\n",
    "\n",
    "def distance(point_a, point_b):\n",
    "    ''' given 2 np.arrays, returns the geometric distance between them '''\n",
    "    return (np.dot(point_b-point_a,point_b-point_a))**(.5)\n",
    "\n",
    "def direction(point_a, point_b):\n",
    "    ''' given 2 np.arrays, returns the direction from point a to point b '''\n",
    "    return (point_b-point_a)/distance(point_a, point_b)"
   ]
  },
  {
   "cell_type": "code",
   "execution_count": 50,
   "metadata": {
    "collapsed": false
   },
   "outputs": [],
   "source": [
    "# hint 1: create a dictionary of points and call it points\n",
    "# have the key as the point name eg. 'a'\n",
    "# have the value as the location of the point np.array([0.,0.,0.])\n",
    "\n",
    "'''<---------- code ----------->'''\n",
    "dic={'a':a,'b':b,'c':c,'d':d,'e':e}"
   ]
  },
  {
   "cell_type": "code",
   "execution_count": 51,
   "metadata": {
    "collapsed": false
   },
   "outputs": [],
   "source": [
    "# hint 2: points.keys() will return the keys that you have in the dictionary points\n",
    "# in other words, it will return 'a','b','c','d','e' but in any order, so use sorted(points.keys()) to have them sorted\n",
    "\n",
    "points=sorted(dic.keys()) # modify this\n"
   ]
  },
  {
   "cell_type": "code",
   "execution_count": 69,
   "metadata": {
    "collapsed": false
   },
   "outputs": [
    {
     "name": "stdout",
     "output_type": "stream",
     "text": [
      "point a to to point b distance : 1.73 diretion: 0.58, 0.58, 0.58\n",
      "point a to to point c distance : 1.41 diretion: 0.71, -0.71, 0.00\n",
      "point a to to point d distance : 11.36 diretion: -0.44, 0.88, 0.18\n",
      "point a to to point e distance : 3.32 diretion: 0.30, 0.90, 0.30\n",
      "point b to to point a distance : 1.73 diretion: -0.58, -0.58, -0.58\n",
      "point b to to point c distance : 2.24 diretion: 0.00, -0.89, -0.45\n",
      "point b to to point d distance : 10.86 diretion: -0.55, 0.83, 0.09\n",
      "point b to to point e distance : 2.00 diretion: 0.00, 1.00, 0.00\n",
      "point c to to point a distance : 1.41 diretion: -0.71, 0.71, 0.00\n",
      "point c to to point b distance : 2.24 diretion: 0.00, 0.89, 0.45\n",
      "point c to to point d distance : 12.69 diretion: -0.47, 0.87, 0.16\n",
      "point c to to point e distance : 4.12 diretion: 0.00, 0.97, 0.24\n",
      "point d to to point a distance : 11.36 diretion: 0.44, -0.88, -0.18\n",
      "point d to to point b distance : 10.86 diretion: 0.55, -0.83, -0.09\n",
      "point d to to point c distance : 12.69 diretion: 0.47, -0.87, -0.16\n",
      "point d to to point e distance : 9.27 diretion: 0.65, -0.75, -0.11\n",
      "point e to to point a distance : 3.32 diretion: -0.30, -0.90, -0.30\n",
      "point e to to point b distance : 2.00 diretion: 0.00, -1.00, 0.00\n",
      "point e to to point c distance : 4.12 diretion: 0.00, -0.97, -0.24\n",
      "point e to to point d distance : 9.27 diretion: -0.65, 0.75, 0.11\n"
     ]
    }
   ],
   "source": [
    "# find the keys that you want to use, \n",
    "# the first set should be fix, \n",
    "# the second set should depend on the point you are using in the first set\n",
    "\n",
    "# hint 2.1: if not(point_1 == point_2):\n",
    "# where should you insert this statement?\n",
    "\n",
    "# hint 3: use a nested for-loop, you can actually iterate through the keys like this.\n",
    "# You will need to modify the body of the loops.\n",
    "\n",
    "\"\"\"for point_1 in points_set_1:\n",
    "    print(point_1, points[point_1])\n",
    "    for point_2 in points_set_2:\n",
    "        print(point_2, points[point_2])\n",
    "\"\"\"\n",
    "\n",
    "for p1 in points:\n",
    "    for p2 in points:\n",
    "        if p1==p2: continue\n",
    "        direc=direction(dic[p1],dic[p2])\n",
    "        #print(direc)\n",
    "        print('point '+p1+' to to point '+p2+' distance : %.2f diretion: %.2f, %.2f, %.2f'%(distance(dic[p1],dic[p2]),direc[0],direc[1],direc[2]))\n",
    "        "
   ]
  },
  {
   "cell_type": "markdown",
   "metadata": {},
   "source": [
    "#### Exercise 2:"
   ]
  },
  {
   "cell_type": "markdown",
   "metadata": {},
   "source": [
    "Let $s(t) = sinc(10t)$.<br>\n",
    "Sample the signal with a sampling period of 1/128 from t = -10 to 10. Then plot the FFT of the signal. What do you expect?"
   ]
  },
  {
   "cell_type": "code",
   "execution_count": 80,
   "metadata": {
    "collapsed": false
   },
   "outputs": [
    {
     "data": {
      "text/plain": [
       "Text(0.5,1,'F(w)')"
      ]
     },
     "execution_count": 80,
     "metadata": {},
     "output_type": "execute_result"
    },
    {
     "data": {
      "image/png": "[encoded data removed]",
      "text/plain": [
       "<Figure size 600x400 with 1 Axes>"
      ]
     },
     "metadata": {},
     "output_type": "display_data"
    },
    {
     "data": {
      "image/png": "[encoded data removed]",
      "text/plain": [
       "<Figure size 600x400 with 1 Axes>"
      ]
     },
     "metadata": {},
     "output_type": "display_data"
    }
   ],
   "source": [
    "\"\"\"f = np.zeros(256)\n",
    "#print(f)\n",
    "f[64:64+128] = 1\n",
    "#print(f)\n",
    "#index 64 corresponds to t = -0.5\n",
    "#index 191 corresponds to t = 0.5\n",
    "\n",
    "t = np.linspace(-1, 1, 256)\n",
    "plt.figure(1)\n",
    "plt.plot(t, f)\n",
    "plt.xlim([-1, 1])\n",
    "plt.show()\n",
    "\n",
    "\n",
    "\n",
    "F = np.fft.fft(f)\n",
    "F = np.fft.fftshift(F)\n",
    "\n",
    "sampling_rate = 128 \n",
    "w = np.fft.fftfreq(256, d = 1/sampling_rate)\n",
    "w = np.fft.fftshift(w)\n",
    "plt.figure(2)\n",
    "plt.plot(w, np.abs(F))\n",
    "plt.show()\n",
    "\"\"\"\n",
    "\n",
    "\n",
    "# Create the array of sampling points\n",
    "\n",
    "t = np.arange(-10, 10, 1/128)\n",
    "\n",
    "# Sample the signal s(t)\n",
    "s=np.sinc(10*t)\n",
    "#print(s)\n",
    "plt.plot(t,s)\n",
    "plt.title(\"f(t)\")\n",
    "# Take the 4800 point FFT of s\n",
    "F=np.fft.fft(s,4800)\n",
    "F=np.fft.fftshift(F)\n",
    "\n",
    "# Create the array of frequencies. There are 4800 points with sampling period of 1/128\n",
    "w=np.fft.fftfreq(4800,d=1/128)\n",
    "w=np.fft.fftshift(w)\n",
    "\n",
    "#print(F)\n",
    "\n",
    "# Plot the magnitude of the FFT\n",
    "plt.figure()\n",
    "plt.plot(w,np.abs(F))\n",
    "plt.title(\"F(w)\")\n"
   ]
  }
 ],
 "metadata": {
  "kernelspec": {
   "display_name": "Python 3",
   "language": "python",
   "name": "python3"
  },
  "language_info": {
   "codemirror_mode": {
    "name": "ipython",
    "version": 3
   },
   "file_extension": ".py",
   "mimetype": "text/x-python",
   "name": "python",
   "nbconvert_exporter": "python",
   "pygments_lexer": "ipython3",
   "version": "3.4.4"
  }
 },
 "nbformat": 4,
 "nbformat_minor": 2
}
